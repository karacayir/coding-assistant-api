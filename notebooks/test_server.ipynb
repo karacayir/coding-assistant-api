{
 "cells": [
  {
   "cell_type": "code",
   "execution_count": null,
   "metadata": {},
   "outputs": [],
   "source": [
    "import requests\n",
    "from IPython.display import Markdown, display"
   ]
  },
  {
   "cell_type": "code",
   "execution_count": null,
   "metadata": {},
   "outputs": [],
   "source": [
    "from requests.adapters import HTTPAdapter\n",
    "from urllib3.util import Retry\n",
    "\n",
    "retry_strategy = Retry(total=10, backoff_factor=0.01)\n",
    "adapter = HTTPAdapter(max_retries=retry_strategy)\n",
    "session = requests.Session()\n",
    "session.mount(\"http://\", adapter)\n",
    "session.mount(\"https://\", adapter)"
   ]
  },
  {
   "cell_type": "code",
   "execution_count": null,
   "metadata": {},
   "outputs": [],
   "source": [
    "api_url = \"http://localhost:5000/v1/completions\"  # Update with your API URL\n",
    "input_data = {\"prompt\": \"Write me a Python function that creates an empty dataframe.\"}\n",
    "\n",
    "response = session.post(api_url, json=input_data)\n",
    "data = response.json()\n",
    "print(data)"
   ]
  },
  {
   "cell_type": "code",
   "execution_count": null,
   "metadata": {},
   "outputs": [],
   "source": [
    "display(Markdown(data[\"response\"][0][\"content\"]))"
   ]
  },
  {
   "cell_type": "code",
   "execution_count": null,
   "metadata": {},
   "outputs": [],
   "source": [
    "api_url = \"http://localhost:5000/v1/chat/completions\"  # Update with your API URL\n",
    "input_data = {\n",
    "    \"messages\": [\n",
    "        {\"role\": \"user\", \"content\": \"Write me a Python function that creates an empty dataframe.\"},\n",
    "        {\"role\": \"assistant\", \"content\": data[\"response\"][0][\"content\"]},\n",
    "        {\"role\": \"user\", \"content\": \"Add a column to this data frame with random integers. Take seed as input.\"},\n",
    "    ]\n",
    "}\n",
    "\n",
    "response = requests.post(api_url, json=input_data)\n",
    "data = response.json()\n",
    "print(data)"
   ]
  },
  {
   "cell_type": "code",
   "execution_count": null,
   "metadata": {},
   "outputs": [],
   "source": [
    "display(Markdown(data[\"response\"][0][\"content\"]))"
   ]
  },
  {
   "cell_type": "code",
   "execution_count": null,
   "metadata": {},
   "outputs": [],
   "source": [
    "input_data[\"messages\"].append({\"role\": \"assistant\", \"content\": data[\"response\"][0][\"content\"]})\n",
    "input_data[\"messages\"].append(\n",
    "    {\"role\": \"user\", \"content\": \"Add numpy style docstring to the function and write all of the Python code to me.\"}\n",
    ")"
   ]
  },
  {
   "cell_type": "code",
   "execution_count": null,
   "metadata": {},
   "outputs": [],
   "source": [
    "api_url = \"http://localhost:5000/v1/chat/completions\"  # Update with your API URL\n",
    "response = requests.post(api_url, json=input_data)\n",
    "data = response.json()\n",
    "print(data)"
   ]
  },
  {
   "cell_type": "code",
   "execution_count": null,
   "metadata": {},
   "outputs": [],
   "source": [
    "display(Markdown(data[\"response\"][0][\"content\"]))"
   ]
  },
  {
   "cell_type": "code",
   "execution_count": null,
   "metadata": {},
   "outputs": [],
   "source": [
    "api_url = \"http://localhost:5000/v1/completions\"  # Update with your API URL\n",
    "input_data = {\n",
    "    \"prompt\": \"Write F1 simulation in Python, take tyre compounds and pit stops into account, print race winners.\"\n",
    "}\n",
    "\n",
    "response = requests.post(api_url, json=input_data)\n",
    "data = response.json()\n",
    "display(Markdown(data[\"response\"][0][\"content\"]))"
   ]
  },
  {
   "cell_type": "code",
   "execution_count": null,
   "metadata": {},
   "outputs": [],
   "source": [
    "api_url = \"http://localhost:5000/v1/completions\"  # Update with your API URL\n",
    "input_data = {\n",
    "    \"prompt\": \"Write me a Python function that calculates Kolmogorov-Smirnov test between two columns on a dataframe.\"\n",
    "}\n",
    "\n",
    "response = requests.post(api_url, json=input_data)\n",
    "data = response.json()\n",
    "display(Markdown(data[\"response\"][0][\"content\"]))"
   ]
  },
  {
   "cell_type": "code",
   "execution_count": null,
   "metadata": {},
   "outputs": [],
   "source": [
    "input_data = {\n",
    "    \"messages\": [\n",
    "        {\n",
    "            \"role\": \"user\",\n",
    "            \"content\": \"Write me a Python function that calculates Kolmogorov-Smirnov test between two columns on a dataframe.\",\n",
    "        },\n",
    "        {\"role\": \"assistant\", \"content\": data[\"response\"][0][\"content\"]},\n",
    "        {\"role\": \"user\", \"content\": \"Can you make docstring like numpydoc style?\"},\n",
    "    ]\n",
    "}\n",
    "api_url = \"http://localhost:5000/v1/chat/completions\"  # Update with your API URL\n",
    "response = requests.post(api_url, json=input_data)\n",
    "data = response.json()\n",
    "display(Markdown(data[\"response\"][0][\"content\"]))"
   ]
  }
 ],
 "metadata": {
  "language_info": {
   "name": "python"
  }
 },
 "nbformat": 4,
 "nbformat_minor": 2
}
