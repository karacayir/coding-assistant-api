{
 "cells": [
  {
   "cell_type": "code",
   "execution_count": null,
   "metadata": {},
   "outputs": [],
   "source": [
    "import requests\n",
    "import json\n",
    "from IPython.display import clear_output, display, Markdown"
   ]
  },
  {
   "cell_type": "code",
   "execution_count": null,
   "metadata": {},
   "outputs": [],
   "source": [
    "API_HOST = \"http://localhost:5000\" # https://ai-code-assistant-inference.kube.isbank"
   ]
  },
  {
   "cell_type": "code",
   "execution_count": null,
   "metadata": {},
   "outputs": [],
   "source": [
    "api_url = f\"{API_HOST}/v1/completions\"  # Update with your API URL\n",
    "input_data = {\"prompt\": \"Write me a Python function that creates an empty dataframe.\"}\n",
    "\n",
    "response = requests.post(api_url, data=json.dumps(input_data), stream=True, headers={'Connection':'close'}, verify=False)"
   ]
  },
  {
   "cell_type": "code",
   "execution_count": null,
   "metadata": {},
   "outputs": [],
   "source": [
    "api_url = f\"{API_HOST}/v1/completions\"  # Update with your API URL\n",
    "input_data = {\"prompt\": \"Write me a Python function that creates an empty dataframe.\", \"stream\": True}\n",
    "\n",
    "out = \"\"\n",
    "with requests.post(api_url, data=json.dumps(input_data), stream=True, headers={'Connection':'close'}, verify=False) as response:\n",
    "    for line in response.iter_content(decode_unicode=True):\n",
    "        if line:\n",
    "            out += line\n",
    "            clear_output(wait=False)\n",
    "            print(out, end=\"\\r\")"
   ]
  },
  {
   "cell_type": "code",
   "execution_count": null,
   "metadata": {},
   "outputs": [],
   "source": [
    "display(Markdown(out))"
   ]
  },
  {
   "cell_type": "code",
   "execution_count": null,
   "metadata": {},
   "outputs": [],
   "source": [
    "api_url = f\"{API_HOST}/v1/chat/completions\"  # Update with your API URL\n",
    "input_data = {\n",
    "    \"messages\": [\n",
    "        {\"role\": \"user\", \"content\": \"Write me a Python function that creates an empty dataframe.\"},\n",
    "        {\"role\": \"assistant\", \"content\": out},\n",
    "        {\"role\": \"user\", \"content\": \"Add a column to this data frame with random integers. Take seed as input.\"},\n",
    "    ]\n",
    "}\n",
    "\n",
    "out = \"\"\n",
    "with requests.post(api_url, data=json.dumps(input_data), stream=True, headers={'Connection':'close'}, verify=False) as response:\n",
    "    for line in response.iter_content(decode_unicode=True):\n",
    "        if line:\n",
    "            out += line\n",
    "            print(out, end=\"\\r\")"
   ]
  },
  {
   "cell_type": "code",
   "execution_count": null,
   "metadata": {},
   "outputs": [],
   "source": [
    "display(Markdown(out.decode(\"utf-8\")))"
   ]
  },
  {
   "cell_type": "code",
   "execution_count": null,
   "metadata": {},
   "outputs": [],
   "source": [
    "input_data[\"messages\"].append({\"role\": \"assistant\", \"content\": out.decode(\"utf-8\")})\n",
    "input_data[\"messages\"].append({\"role\": \"user\", \"content\": \"Add numpy style docstring to the function and write all of the Python code to me.\"})\n",
    "\n",
    "out = b\"\"\n",
    "with requests.post(api_url, data=json.dumps(input_data), stream=True, headers={'Connection':'close'}, verify=False) as response:\n",
    "    for line in response.iter_content():\n",
    "        if line:\n",
    "            out += line\n",
    "            print(out, end=\"\\r\")"
   ]
  },
  {
   "cell_type": "code",
   "execution_count": null,
   "metadata": {},
   "outputs": [],
   "source": [
    "display(Markdown(out.decode(\"utf-8\")))"
   ]
  }
 ],
 "metadata": {
  "language_info": {
   "name": "python"
  }
 },
 "nbformat": 4,
 "nbformat_minor": 2
}
